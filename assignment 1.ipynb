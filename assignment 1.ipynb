{
 "cells": [
  {
   "cell_type": "markdown",
   "metadata": {},
   "source": [
    "# *ASSIGNMENT 1*"
   ]
  },
  {
   "cell_type": "code",
   "execution_count": 3,
   "metadata": {},
   "outputs": [
    {
     "name": "stdout",
     "output_type": "stream",
     "text": [
      "enter the first number::24\n",
      "enter the second number::26\n",
      "after swapping::\n",
      "26\n",
      "24\n"
     ]
    }
   ],
   "source": [
    "#QUES 1:WAP to swap two variables.\n",
    "\n",
    "a=int(input(\"enter the first number::\"))\n",
    "b=int(input(\"enter the second number::\"))\n",
    "a=a+b\n",
    "b=a-b\n",
    "a=a-b\n",
    "print(\"after swapping::\")\n",
    "print(a)\n",
    "print(b)\n"
   ]
  },
  {
   "cell_type": "code",
   "execution_count": 4,
   "metadata": {},
   "outputs": [
    {
     "name": "stdout",
     "output_type": "stream",
     "text": [
      "enter the number::45\n",
      "entered number is odd\n"
     ]
    }
   ],
   "source": [
    "#ques 2:wap to check if a no. is odd or even\n",
    "a=int(input(\"enter the number::\"))\n",
    "if(a%2==0):\n",
    "    print(\"entered number is even\")\n",
    "else:\n",
    "    print(\"entered number is odd\")\n",
    "\n"
   ]
  },
  {
   "cell_type": "code",
   "execution_count": 11,
   "metadata": {},
   "outputs": [
    {
     "name": "stdout",
     "output_type": "stream",
     "text": [
      "enter a no.:6\n",
      "square root of a number is::\n",
      "36.0\n"
     ]
    }
   ],
   "source": [
    "#ques 3: wap to find square root of a no.\n",
    "a=int(input(\"enter a no.:\"))\n",
    "import math\n",
    "print(\"square root of a number is::\")\n",
    "print(math.pow(a,2))\n"
   ]
  },
  {
   "cell_type": "code",
   "execution_count": 44,
   "metadata": {},
   "outputs": [
    {
     "name": "stdout",
     "output_type": "stream",
     "text": [
      "1 2 3 4 5 6 7 8 9 10 \n",
      "after reversing:\n",
      "10 9 8 7 6 5 4 3 2 1 "
     ]
    }
   ],
   "source": [
    "#ques 4:wap to print all the natural nos. from 1 to n (user input).thn print the same in reverse order\n",
    "\n",
    "for i in range(1,11):\n",
    "    b=print(i,end=\" \")\n",
    "print(\"\\nafter reversing:\".format(b))\n",
    "while(i>=1):\n",
    "    print(i,end=\" \")\n",
    "    i=i-1\n",
    "\n",
    "    \n",
    "    \n",
    "    "
   ]
  },
  {
   "cell_type": "code",
   "execution_count": 48,
   "metadata": {},
   "outputs": [
    {
     "name": "stdout",
     "output_type": "stream",
     "text": [
      "enter the radius::2\n",
      "volume of sphere is:\n",
      "33.49333333333333\n"
     ]
    }
   ],
   "source": [
    "#ques 5:wap to print volume of sphere ,guven radii is 3.14\n",
    "a=int(input(\"enter the radius::\"))\n",
    "print(\"volume of sphere is:\")\n",
    "import math\n",
    "print((4/3)*3.14*pow(a,3))"
   ]
  },
  {
   "cell_type": "code",
   "execution_count": 76,
   "metadata": {},
   "outputs": [
    {
     "name": "stdout",
     "output_type": "stream",
     "text": [
      "even nos.: [2, 4, 6, 8, 10, 12, 14, 16, 18, 20, 22, 24, 26, 28, 30, 32, 34, 36, 38, 40, 42, 44, 46, 48, 50, 52, 54, 56, 58, 60, 62, 64, 66, 68, 70, 72, 74, 76, 78, 80, 82, 84, 86, 88, 90, 92, 94, 96, 98, 100]\n",
      "odd nos.: [1, 3, 5, 7, 9, 11, 13, 15, 17, 19, 21, 23, 25, 27, 29, 31, 33, 35, 37, 39, 41, 43, 45, 47, 49, 51, 53, 55, 57, 59, 61, 63, 65, 67, 69, 71, 73, 75, 77, 79, 81, 83, 85, 87, 89, 91, 93, 95, 97, 99]\n"
     ]
    }
   ],
   "source": [
    "#ques 6:print all odd nos. and even nos. between 1 to 100\n",
    "even_no=[]\n",
    "odd_no=[]\n",
    "\n",
    "for i in range(1,101):\n",
    "    if(i%2==0):\n",
    "        even_no.append(i)\n",
    "    else:\n",
    "        odd_no.append(i)\n",
    "print(\"even nos.:\",even_no)\n",
    "print(\"odd nos.:\",odd_no)\n",
    "\n",
    "        \n",
    "        "
   ]
  },
  {
   "cell_type": "code",
   "execution_count": 79,
   "metadata": {},
   "outputs": [
    {
     "name": "stdout",
     "output_type": "stream",
     "text": [
      "enter first value:2\n",
      "enter second value:3\n",
      "enter third value:5\n",
      "the first root is: (-2.9999999999999996+5.5677643628300215j)\n",
      "the second root is: (-3.0000000000000004-5.5677643628300215j)\n"
     ]
    }
   ],
   "source": [
    "#ques 7:wap to compute roots of a quadratic equation when coefficients a,b and c are known(entered by user)\n",
    "a=int(input(\"enter first value:\"))\n",
    "b=int(input(\"enter second value:\"))\n",
    "c=int(input(\"enter third value:\"))\n",
    "x1=(-b+((b**2-(4*a*c))**(1/2)))/2*a\n",
    "print(\"the first root is:\",x1)\n",
    "x2=(-b-((b**2-(4*a*c))**(1/2)))/2*a\n",
    "print(\"the second root is:\",x2)"
   ]
  },
  {
   "cell_type": "code",
   "execution_count": 1,
   "metadata": {},
   "outputs": [
    {
     "name": "stdout",
     "output_type": "stream",
     "text": [
      "enter the number::5342\n",
      "number of digits are: 4\n"
     ]
    }
   ],
   "source": [
    "#ques 8:wap to count no. of digits in a no.\n",
    "count=0\n",
    "a=int(input(\"enter the number::\"))\n",
    "while(a>0):\n",
    "    count+=1\n",
    "    a=a//10\n",
    "print(\"number of digits are:\",count)    "
   ]
  },
  {
   "cell_type": "code",
   "execution_count": 2,
   "metadata": {},
   "outputs": [
    {
     "name": "stdout",
     "output_type": "stream",
     "text": [
      "enter the number::7\n",
      "prime no. or true\n"
     ]
    }
   ],
   "source": [
    "#ques 9:wap to check if a number is prime or not\n",
    "\n",
    "flag=0\n",
    "a=int(input(\"enter the number::\"))\n",
    "for i in range(2,a//2):\n",
    "    if(a%i==0):\n",
    "        print(\"not a prime no. or false\")\n",
    "        flag=1\n",
    "        break\n",
    "    else:\n",
    "        if(flag!=1):\n",
    "            print(\"prime no. or true\")"
   ]
  },
  {
   "cell_type": "code",
   "execution_count": 5,
   "metadata": {},
   "outputs": [
    {
     "name": "stdout",
     "output_type": "stream",
     "text": [
      "enter number:17\n",
      "sum: 60\n"
     ]
    }
   ],
   "source": [
    "#ques 10:wap that asks the user for a no. n and prints the sum of the numbers 1 to n such that only multiples of 3 or 5 are considered in the sum\n",
    "sum=0\n",
    "a=int(input(\"enter number:\"))\n",
    "for i in range(0,a):\n",
    "    if((i%3==0) or (i%5==0)):\n",
    "        sum=sum+i\n",
    "print(\"sum:\",sum)        \n",
    "        \n",
    "        "
   ]
  },
  {
   "cell_type": "code",
   "execution_count": 1,
   "metadata": {},
   "outputs": [
    {
     "name": "stdout",
     "output_type": "stream",
     "text": [
      "enter a number:12\n",
      "given choices are:\n",
      " 1)sum of 1 to n numbers\n",
      " 2)product of 1 to n numbers\n",
      " 3)wrong choice\n",
      " \n",
      "enter your choice::\n",
      "2\n",
      "product is: 479001600\n"
     ]
    }
   ],
   "source": [
    "#ques 11:wap that asks user for a no.and gives them the possibility to choose between computing the product of 1,.....,n \n",
    "sum=0\n",
    "product=1\n",
    "choice=3\n",
    "n=int(input(\"enter a number:\"))\n",
    "print(\"given choices are:\\n 1)sum of 1 to n numbers\\n 2)product of 1 to n numbers\\n 3)wrong choice\\n \")\n",
    "print(\"enter your choice::\")\n",
    "choice=int(input())\n",
    "if(choice==1):\n",
    "    for i in range(1,n+1):\n",
    "        sum+=i\n",
    "    print(\"sum is:\",sum)\n",
    "elif(choice==2):\n",
    "        for i in range(1,n+1):\n",
    "            product*=i\n",
    "        print(\"product is:\",product)\n",
    "else:\n",
    "    print(\"wrong choice\")\n",
    "    \n",
    "        \n",
    "        "
   ]
  },
  {
   "cell_type": "code",
   "execution_count": 2,
   "metadata": {},
   "outputs": [
    {
     "name": "stdout",
     "output_type": "stream",
     "text": [
      "sum of numbers below 1000 is: 466\n"
     ]
    }
   ],
   "source": [
    "#ques 12:find the sum of all the multiples of 3 or 5 below 1000\n",
    "sum=0\n",
    "for i in range(1,1000):\n",
    "    if((i%3==0) or (i%5==0)):\n",
    "        sum+=1\n",
    "print(\"sum of numbers below 1000 is:\",sum)        \n",
    "        \n"
   ]
  },
  {
   "cell_type": "code",
   "execution_count": 4,
   "metadata": {},
   "outputs": [
    {
     "name": "stdout",
     "output_type": "stream",
     "text": [
      "no.s are:\n",
      "2002, 2009, 2016, 2023, 2037, 2044, 2051, 2058, 2072, 2079, 2086, 2093, 2107, 2114, 2121, 2128, 2142, 2149, 2156, 2163, 2177, 2184, 2191, 2198, 2212, 2219, 2226, 2233, 2247, 2254, 2261, 2268, 2282, 2289, 2296, 2303, 2317, 2324, 2331, 2338, 2352, 2359, 2366, 2373, 2387, 2394, 2401, 2408, 2422, 2429, 2436, 2443, 2457, 2464, 2471, 2478, 2492, 2499, 2506, 2513, 2527, 2534, 2541, 2548, 2562, 2569, 2576, 2583, 2597, 2604, 2611, 2618, 2632, 2639, 2646, 2653, 2667, 2674, 2681, 2688, 2702, 2709, 2716, 2723, 2737, 2744, 2751, 2758, 2772, 2779, 2786, 2793, 2807, 2814, 2821, 2828, 2842, 2849, 2856, 2863, 2877, 2884, 2891, 2898, 2912, 2919, 2926, 2933, 2947, 2954, 2961, 2968, 2982, 2989, 2996, 3003, 3017, 3024, 3031, 3038, 3052, 3059, 3066, 3073, 3087, 3094, 3101, 3108, 3122, 3129, 3136, 3143, 3157, 3164, 3171, 3178, 3192, 3199, "
     ]
    }
   ],
   "source": [
    "#ques 13:wap which will find all such numbers which are divided by 7 but not a multiple of 5 between 2000 and 3200(both included)\n",
    "print(\"no.s are:\")\n",
    "for i in range(2000,3201):\n",
    "    if((i%7==0) and (i%5!=0)):\n",
    "        print(i,end=\", \")"
   ]
  },
  {
   "cell_type": "code",
   "execution_count": 8,
   "metadata": {},
   "outputs": [
    {
     "name": "stdout",
     "output_type": "stream",
     "text": [
      "difference is: 25164150\n"
     ]
    }
   ],
   "source": [
    "#ques 14:find the difference b/w the sum of the squares of the first one hundred natural nos and the square of the sum\n",
    "sum_of_square=0\n",
    "square_of_sum=0\n",
    "for i in range(1,101):\n",
    "    sum_of_square+=(i*i)\n",
    "for i in range(1,101):\n",
    "    square_of_sum+=i\n",
    "square_of_sum*=square_of_sum \n",
    "print(\"difference is:\",abs(sum_of_square-square_of_sum))"
   ]
  },
  {
   "cell_type": "code",
   "execution_count": 16,
   "metadata": {},
   "outputs": [
    {
     "name": "stdout",
     "output_type": "stream",
     "text": [
      "enter a number:10\n",
      "type 'stop' to terminate:r\n",
      "enter a number:90\n",
      "type 'stop' to terminate:stop\n",
      "total: 100 \n",
      "count: 2 \n",
      "average: 50.0\n"
     ]
    }
   ],
   "source": [
    "#ques 15:wap w/c repeatedly reads nos. until the user enters stop .once stop is entered ,print out the total,count,and average of the numbers. if the user enters anything other thn a no. thn also stops\n",
    "total=0\n",
    "count=0\n",
    "a=\"start\"\n",
    "while(a!=\"stop\"):\n",
    "    n=int(input(\"enter a number:\"))\n",
    "    total+=n\n",
    "    count+=1\n",
    "    a=(input(\"type 'stop' to terminate:\"))\n",
    "print(\"total:\",total,\"\\ncount:\",count,\"\\naverage:\",total/count)    "
   ]
  },
  {
   "cell_type": "code",
   "execution_count": 18,
   "metadata": {},
   "outputs": [
    {
     "name": "stdout",
     "output_type": "stream",
     "text": [
      "enter the number:40\n",
      "2,3,4,5,7,11,13,17,19,23,29,31,37,"
     ]
    }
   ],
   "source": [
    "#ques 16: wap that prints all prime numbers till n\n",
    "\n",
    "def prime(n):\n",
    "    flag=1\n",
    "    for i in range(2,n//2):\n",
    "        if(n%i==0):\n",
    "            flag=0\n",
    "            break\n",
    "    if(flag!=0):\n",
    "        return 1\n",
    "    else:\n",
    "        return 0\n",
    "a=int(input(\"enter the number:\")) \n",
    "for i in range(2,a+1):\n",
    "    check=prime(i)\n",
    "    if(check==1):\n",
    "        print(i,end=\",\")"
   ]
  },
  {
   "cell_type": "code",
   "execution_count": 3,
   "metadata": {},
   "outputs": [
    {
     "name": "stdout",
     "output_type": "stream",
     "text": [
      "enter a number:6\n",
      "factorial of  6 is: 720\n"
     ]
    }
   ],
   "source": [
    "#ques 17:wap which can compute the factorial of a number\n",
    "def fact(n):\n",
    "    if(n==1):\n",
    "        return n\n",
    "    else:\n",
    "        return(n*fact(n-1))\n",
    "num=int(input(\"enter a number:\"))\n",
    "print(\"factorial of \",num,\"is:\",fact(num))"
   ]
  },
  {
   "cell_type": "code",
   "execution_count": 4,
   "metadata": {},
   "outputs": [
    {
     "name": "stdout",
     "output_type": "stream",
     "text": [
      "enter a number:11\n",
      "0 1,1,2,3,5,8,13,21,34,55,"
     ]
    }
   ],
   "source": [
    "#ques 18:wap for printing fibonacci series till n\n",
    "a=0\n",
    "b=1\n",
    "n=int(input(\"enter a number:\"))\n",
    "print(a,b,sep=\" \",end=\",\")\n",
    "for i in range(3,n+1):\n",
    "    c=a+b\n",
    "    print(c,end=\",\")\n",
    "    a=b\n",
    "    b=c\n"
   ]
  },
  {
   "cell_type": "code",
   "execution_count": 7,
   "metadata": {},
   "outputs": [
    {
     "name": "stdout",
     "output_type": "stream",
     "text": [
      "enter the first number:25\n",
      "enter the second number:50\n",
      "LCM is: 50\n"
     ]
    }
   ],
   "source": [
    "#ques 19:wap to find LCM of 2 nos\n",
    "a=int(input(\"enter the first number:\"))\n",
    "b=int(input(\"enter the second number:\"))\n",
    "if(a>b):\n",
    "    max=a\n",
    "else:\n",
    "    max=b\n",
    "while(1):\n",
    "    if(max%a==0 and max%b==0):\n",
    "        print(\"LCM is:\",max)\n",
    "        break\n",
    "    max=max+1    "
   ]
  },
  {
   "cell_type": "code",
   "execution_count": 9,
   "metadata": {},
   "outputs": [
    {
     "name": "stdout",
     "output_type": "stream",
     "text": [
      "enter a no.:100\n",
      "factors of 100 are:\n",
      "2\n",
      "4\n",
      "5\n",
      "10\n",
      "20\n",
      "25\n",
      "50\n"
     ]
    }
   ],
   "source": [
    "#ques 20:wap to find factors of a number\n",
    "a=int(input(\"enter a no.:\"))\n",
    "num=int(a)\n",
    "print(\"factors of\",num,\"are:\")\n",
    "for i in range(2,num-1):\n",
    "    if(num%i==0):\n",
    "        print(i)\n",
    "        i+=1"
   ]
  },
  {
   "cell_type": "markdown",
   "metadata": {},
   "source": [
    "### ques 21:pattern questions"
   ]
  },
  {
   "cell_type": "code",
   "execution_count": 10,
   "metadata": {},
   "outputs": [
    {
     "name": "stdout",
     "output_type": "stream",
     "text": [
      " \n",
      "* \n",
      "** \n",
      "*** \n",
      "**** \n",
      "***** \n"
     ]
    }
   ],
   "source": [
    "#part 1\n",
    "for i in range(0,6):\n",
    "    for j in range(0,1):\n",
    "        print(\"*\"*i,end=\" \")\n",
    "    print()"
   ]
  },
  {
   "cell_type": "code",
   "execution_count": 21,
   "metadata": {},
   "outputs": [
    {
     "name": "stdout",
     "output_type": "stream",
     "text": [
      "1 \n",
      "\n",
      "2 2 \n",
      "\n",
      "3 3 3 \n",
      "\n",
      "4 4 4 4 \n",
      "\n",
      "5 5 5 5 5 \n",
      "\n"
     ]
    }
   ],
   "source": [
    "#part 3\n",
    "for i in range(1,6):\n",
    "    for j in range(i):\n",
    "        print(i,end=\" \")\n",
    "    print(\"\\n\")\n",
    "        \n",
    "        "
   ]
  },
  {
   "cell_type": "code",
   "execution_count": 22,
   "metadata": {},
   "outputs": [
    {
     "name": "stdout",
     "output_type": "stream",
     "text": [
      "* * * * * * *  \n",
      "* * * * * *  \n",
      "* * * * *  \n",
      "* * * *  \n",
      "* * *  \n",
      "* *  \n",
      "*  \n"
     ]
    }
   ],
   "source": [
    "#part 2\n",
    "nos=7\n",
    "temp=7\n",
    "for i in range(7,0,-1):\n",
    "    while(temp>0):\n",
    "        print(\"*\",end=\" \")\n",
    "        temp-=1\n",
    "    nos-=1\n",
    "    temp=nos\n",
    "    print(\" \")"
   ]
  },
  {
   "cell_type": "code",
   "execution_count": 1,
   "metadata": {},
   "outputs": [
    {
     "name": "stdout",
     "output_type": "stream",
     "text": [
      "\n",
      "     *\n",
      "    * *\n",
      "   * * *\n",
      "  * * * *\n",
      " * * * * *"
     ]
    }
   ],
   "source": [
    "#part 4\n",
    "nos=1\n",
    "s=1\n",
    "for i in range(5,0,-1):\n",
    "    print(\"\")\n",
    "    for j in range(5,s,-1):\n",
    "        print(\" \",end= \"\")\n",
    "    for k in range(0,nos):\n",
    "        print(\" *\",end= \"\")\n",
    "    nos+=1\n",
    "    s+=1"
   ]
  },
  {
   "cell_type": "code",
   "execution_count": 2,
   "metadata": {},
   "outputs": [
    {
     "name": "stdout",
     "output_type": "stream",
     "text": [
      "1 \n",
      "\n",
      "2 3 \n",
      "\n",
      "4 5 6 \n",
      "\n",
      "7 8 9 10 \n",
      "\n"
     ]
    }
   ],
   "source": [
    "#part 5\n",
    "n=0\n",
    "for i in range(1,5):\n",
    "    for j in range(1,i+1):\n",
    "        n+=1\n",
    "        print(n,end=\" \")\n",
    "    print(\"\\n\")    "
   ]
  },
  {
   "cell_type": "code",
   "execution_count": 6,
   "metadata": {},
   "outputs": [
    {
     "name": "stdout",
     "output_type": "stream",
     "text": [
      "A \n",
      "\n",
      "B C \n",
      "\n",
      "D E F \n",
      "\n",
      "G H I J \n",
      "\n"
     ]
    }
   ],
   "source": [
    "#part6\n",
    "n=64\n",
    "for i in range(1,5):\n",
    "    for j in range(1,i+1):\n",
    "        n+=1\n",
    "        print(chr(n),end=\" \")\n",
    "    print(\"\\n\")    "
   ]
  },
  {
   "cell_type": "code",
   "execution_count": 9,
   "metadata": {},
   "outputs": [
    {
     "name": "stdout",
     "output_type": "stream",
     "text": [
      "enter a number:9\n",
      "sum: 11106\n"
     ]
    }
   ],
   "source": [
    "#ques 22:\n",
    "def num(n,nod):\n",
    "    a=n\n",
    "    while(nod>1):\n",
    "        a*=10\n",
    "        a+=n\n",
    "        nod-=1\n",
    "    return a\n",
    "n=int(input(\"enter a number:\"))\n",
    "sum=0\n",
    "for i in range(1,5):\n",
    "    temp=num(n,i)\n",
    "    sum+=temp\n",
    "print(\"sum:\",sum)    "
   ]
  },
  {
   "cell_type": "code",
   "execution_count": null,
   "metadata": {},
   "outputs": [],
   "source": []
  }
 ],
 "metadata": {
  "kernelspec": {
   "display_name": "Python 3",
   "language": "python",
   "name": "python3"
  },
  "language_info": {
   "codemirror_mode": {
    "name": "ipython",
    "version": 3
   },
   "file_extension": ".py",
   "mimetype": "text/x-python",
   "name": "python",
   "nbconvert_exporter": "python",
   "pygments_lexer": "ipython3",
   "version": "3.7.3"
  }
 },
 "nbformat": 4,
 "nbformat_minor": 2
}
